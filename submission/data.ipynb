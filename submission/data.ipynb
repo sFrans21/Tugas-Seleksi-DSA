{
 "cells": [
  {
   "cell_type": "code",
   "execution_count": 45,
   "metadata": {},
   "outputs": [],
   "source": [
    "import pandas as pd\n",
    "\n",
    "#buat dataset untuk train.csv & test.csv\n",
    "train_data = pd.read_csv(\"train.csv\")\n",
    "test_data = pd.read_csv(\"test.csv\")\n",
    "\n",
    "\n"
   ]
  },
  {
   "cell_type": "markdown",
   "metadata": {},
   "source": [
    "**Pemisahan Fitur dan target**\n",
    "Memisahkan kolom target 'Hardness' dari fitur-fitur lain"
   ]
  },
  {
   "cell_type": "code",
   "execution_count": 50,
   "metadata": {},
   "outputs": [],
   "source": [
    "#hapus kolom id dna hardness dari train_data di x_train\n",
    "x_train = train_data.drop(['id','Hardness'], axis=1)\n",
    "\n",
    "\n",
    "y_train = train_data['Hardness']\n",
    "\n",
    "x_test = test_data.drop('id', axis=1)\n"
   ]
  },
  {
   "cell_type": "markdown",
   "metadata": {},
   "source": [
    "**PEMODELAN**"
   ]
  },
  {
   "cell_type": "code",
   "execution_count": 51,
   "metadata": {},
   "outputs": [],
   "source": [
    "from sklearn.ensemble import RandomForestRegressor\n",
    "\n",
    "model = RandomForestRegressor()"
   ]
  },
  {
   "cell_type": "code",
   "execution_count": 52,
   "metadata": {},
   "outputs": [
    {
     "name": "stdout",
     "output_type": "stream",
     "text": [
      "RandomForestRegressor()\n"
     ]
    }
   ],
   "source": [
    "print(model.fit(x_train, y_train))"
   ]
  },
  {
   "cell_type": "code",
   "execution_count": 53,
   "metadata": {},
   "outputs": [],
   "source": [
    "predictions = model.predict(x_test)"
   ]
  },
  {
   "cell_type": "code",
   "execution_count": 54,
   "metadata": {},
   "outputs": [
    {
     "name": "stdout",
     "output_type": "stream",
     "text": [
      "        id   Hardness\n",
      "0     6400   87.53400\n",
      "1     6401  155.77134\n",
      "2     6402  119.04000\n",
      "3     6403   96.64186\n",
      "4     6404  341.15000\n",
      "...    ...        ...\n",
      "1596  7996   91.54286\n",
      "1597  7997   54.23300\n",
      "1598  7998  187.27000\n",
      "1599  7999  235.74400\n",
      "1600  8000  192.59000\n",
      "\n",
      "[1601 rows x 2 columns]\n"
     ]
    }
   ],
   "source": [
    "submission = pd.DataFrame({'id': test_data['id'], 'Hardness': predictions})\n",
    "submission.to_csv('submission.csv', index=False)\n",
    "print(submission)\n"
   ]
  }
 ],
 "metadata": {
  "kernelspec": {
   "display_name": "Python 3",
   "language": "python",
   "name": "python3"
  },
  "language_info": {
   "codemirror_mode": {
    "name": "ipython",
    "version": 3
   },
   "file_extension": ".py",
   "mimetype": "text/x-python",
   "name": "python",
   "nbconvert_exporter": "python",
   "pygments_lexer": "ipython3",
   "version": "3.12.3"
  }
 },
 "nbformat": 4,
 "nbformat_minor": 2
}
