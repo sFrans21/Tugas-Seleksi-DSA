{
 "cells": [
  {
   "cell_type": "code",
   "execution_count": 45,
   "metadata": {},
   "outputs": [],
   "source": [
    "import pandas as pd\n",
    "\n",
    "#buat dataset untuk train.csv & test.csv\n",
    "train_data = pd.read_csv(\"train.csv\")\n",
    "test_data = pd.read_csv(\"test.csv\")\n",
    "\n",
    "\n"
   ]
  },
  {
   "cell_type": "code",
   "execution_count": 46,
   "metadata": {},
   "outputs": [
    {
     "name": "stdout",
     "output_type": "stream",
     "text": [
      "   id  Alkalinity, total  Calcium  Chloride  Fluoride  Magnesium  \\\n",
      "0   0              120.0     24.0       6.9     0.314        7.1   \n",
      "1   1              140.0     41.0      11.0     0.150        6.5   \n",
      "2   2              160.0     51.0       9.0     0.450        9.1   \n",
      "3   3               46.0     13.0       2.9     0.120        2.7   \n",
      "4   4              240.0    147.0      70.0     0.600       48.0   \n",
      "\n",
      "   Nitrate as N  Sodium  Specific Conductivity  Sulfate  \\\n",
      "0         0.498    48.0                  510.0     23.2   \n",
      "1         0.950    19.0                  300.0      8.5   \n",
      "2         2.500    12.0                  370.0     25.0   \n",
      "3         0.430     6.4                  110.0      5.0   \n",
      "4         6.800    93.0                 1410.0    418.0   \n",
      "\n",
      "   Total Dissolved Solids  Hardness  \n",
      "0                   240.0      90.4  \n",
      "1                   190.0     130.0  \n",
      "2                   230.0     160.0  \n",
      "3                    97.0      41.0  \n",
      "4                   950.0     586.0  \n"
     ]
    }
   ],
   "source": [
    "print(train_data.head())"
   ]
  },
  {
   "cell_type": "code",
   "execution_count": 47,
   "metadata": {},
   "outputs": [
    {
     "name": "stdout",
     "output_type": "stream",
     "text": [
      "<class 'pandas.core.frame.DataFrame'>\n",
      "RangeIndex: 6400 entries, 0 to 6399\n",
      "Data columns (total 12 columns):\n",
      " #   Column                  Non-Null Count  Dtype  \n",
      "---  ------                  --------------  -----  \n",
      " 0   id                      6400 non-null   int64  \n",
      " 1   Alkalinity, total       6400 non-null   float64\n",
      " 2   Calcium                 6400 non-null   float64\n",
      " 3   Chloride                6400 non-null   float64\n",
      " 4   Fluoride                6400 non-null   float64\n",
      " 5   Magnesium               6400 non-null   float64\n",
      " 6   Nitrate as N            6400 non-null   float64\n",
      " 7   Sodium                  6400 non-null   float64\n",
      " 8   Specific Conductivity   6400 non-null   float64\n",
      " 9   Sulfate                 6400 non-null   float64\n",
      " 10  Total Dissolved Solids  6400 non-null   float64\n",
      " 11  Hardness                6400 non-null   float64\n",
      "dtypes: float64(11), int64(1)\n",
      "memory usage: 600.1 KB\n",
      "None\n"
     ]
    }
   ],
   "source": [
    "print(train_data.info())\n",
    "# print(test_data.info())"
   ]
  },
  {
   "cell_type": "code",
   "execution_count": 48,
   "metadata": {},
   "outputs": [
    {
     "name": "stdout",
     "output_type": "stream",
     "text": [
      "                id  Alkalinity, total       Calcium     Chloride     Fluoride  \\\n",
      "count  6400.000000        6400.000000   6400.000000  6400.000000  6400.000000   \n",
      "mean   3199.500000         167.151047     69.350432    53.213620     0.333625   \n",
      "std    1847.665193          83.157803   1052.136452    92.934505     0.452473   \n",
      "min       0.000000          12.000000      0.610000     0.580000     0.049000   \n",
      "25%    1599.750000         110.000000     25.000000    11.000000     0.140000   \n",
      "50%    3199.500000         153.500000     45.000000    28.000000     0.210000   \n",
      "75%    4799.250000         209.000000     72.000000    62.000000     0.382250   \n",
      "max    6399.000000        1000.000000  83000.000000  2100.000000     9.000000   \n",
      "\n",
      "          Magnesium  Nitrate as N        Sodium  Specific Conductivity  \\\n",
      "count   6400.000000   6400.000000   6400.000000            6400.000000   \n",
      "mean      23.446335      3.382707     62.437731             637.631953   \n",
      "std      325.389503      4.878279    556.891904             597.297274   \n",
      "min        0.051000      0.002300      1.300000              40.000000   \n",
      "25%        7.300000      0.850000     21.000000             340.000000   \n",
      "50%       14.000000      2.000000     35.000000             520.000000   \n",
      "75%       25.000000      4.300000     60.000000             800.000000   \n",
      "max    26000.000000    106.000000  32000.000000           31400.000000   \n",
      "\n",
      "           Sulfate  Total Dissolved Solids     Hardness  \n",
      "count  6400.000000             6400.000000  6400.000000  \n",
      "mean     71.645934              409.570669   216.148203  \n",
      "std     108.414049              302.958442   161.431526  \n",
      "min       0.140000               19.580000     2.500000  \n",
      "25%      13.000000              220.000000   101.000000  \n",
      "50%      33.000000              320.000000   180.000000  \n",
      "75%      85.000000              500.000000   281.000000  \n",
      "max    2000.000000             4100.000000  1901.000000  \n"
     ]
    }
   ],
   "source": [
    "print(train_data.describe())\n",
    "# print(test_data.describe())"
   ]
  },
  {
   "cell_type": "code",
   "execution_count": 49,
   "metadata": {},
   "outputs": [
    {
     "name": "stdout",
     "output_type": "stream",
     "text": [
      "id                        0\n",
      "Alkalinity, total         0\n",
      "Calcium                   0\n",
      "Chloride                  0\n",
      "Fluoride                  0\n",
      "Magnesium                 0\n",
      "Nitrate as N              0\n",
      "Sodium                    0\n",
      "Specific Conductivity     0\n",
      "Sulfate                   0\n",
      "Total Dissolved Solids    0\n",
      "Hardness                  0\n",
      "dtype: int64\n"
     ]
    }
   ],
   "source": [
    "print(train_data.isnull().sum())"
   ]
  },
  {
   "cell_type": "markdown",
   "metadata": {},
   "source": [
    "**Pemisahan Fitur dan target**\n",
    "Memisahkan kolom target 'Hardness' dari fitur-fitur lain"
   ]
  },
  {
   "cell_type": "code",
   "execution_count": 50,
   "metadata": {},
   "outputs": [],
   "source": [
    "#hapus kolom id dna hardness dari train_data di x_train\n",
    "x_train = train_data.drop(['id','Hardness'], axis=1)\n",
    "\n",
    "\n",
    "y_train = train_data['Hardness']\n",
    "\n",
    "x_test = test_data.drop('id', axis=1)\n"
   ]
  },
  {
   "cell_type": "markdown",
   "metadata": {},
   "source": [
    "**PEMODELAN**"
   ]
  },
  {
   "cell_type": "code",
   "execution_count": 51,
   "metadata": {},
   "outputs": [],
   "source": [
    "from sklearn.ensemble import RandomForestRegressor\n",
    "\n",
    "model = RandomForestRegressor()"
   ]
  },
  {
   "cell_type": "code",
   "execution_count": 52,
   "metadata": {},
   "outputs": [
    {
     "name": "stdout",
     "output_type": "stream",
     "text": [
      "RandomForestRegressor()\n"
     ]
    }
   ],
   "source": [
    "print(model.fit(x_train, y_train))"
   ]
  },
  {
   "cell_type": "code",
   "execution_count": 53,
   "metadata": {},
   "outputs": [],
   "source": [
    "predictions = model.predict(x_test)"
   ]
  },
  {
   "cell_type": "code",
   "execution_count": 54,
   "metadata": {},
   "outputs": [
    {
     "name": "stdout",
     "output_type": "stream",
     "text": [
      "        id   Hardness\n",
      "0     6400   87.53400\n",
      "1     6401  155.77134\n",
      "2     6402  119.04000\n",
      "3     6403   96.64186\n",
      "4     6404  341.15000\n",
      "...    ...        ...\n",
      "1596  7996   91.54286\n",
      "1597  7997   54.23300\n",
      "1598  7998  187.27000\n",
      "1599  7999  235.74400\n",
      "1600  8000  192.59000\n",
      "\n",
      "[1601 rows x 2 columns]\n"
     ]
    }
   ],
   "source": [
    "submission = pd.DataFrame({'id': test_data['id'], 'Hardness': predictions})\n",
    "submission.to_csv('submission.csv', index=False)\n",
    "print(submission)\n"
   ]
  }
 ],
 "metadata": {
  "kernelspec": {
   "display_name": "Python 3",
   "language": "python",
   "name": "python3"
  },
  "language_info": {
   "codemirror_mode": {
    "name": "ipython",
    "version": 3
   },
   "file_extension": ".py",
   "mimetype": "text/x-python",
   "name": "python",
   "nbconvert_exporter": "python",
   "pygments_lexer": "ipython3",
   "version": "3.12.3"
  }
 },
 "nbformat": 4,
 "nbformat_minor": 2
}
